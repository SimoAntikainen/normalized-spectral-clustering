{
 "cells": [
  {
   "cell_type": "code",
   "execution_count": 1,
   "metadata": {},
   "outputs": [],
   "source": [
    "#imports\n",
    "import pandas as pd\n",
    "import numpy as np\n",
    "import networkx as nx\n",
    "import scipy as sp\n",
    "from sklearn.cluster import KMeans\n",
    "import shutil"
   ]
  },
  {
   "cell_type": "code",
   "execution_count": 2,
   "metadata": {},
   "outputs": [],
   "source": [
    "#load files\n",
    "astroph_df = pd.read_csv(\"communities/CA-AstroPh.txt\", skiprows=1,header=None, sep= \" \")\n",
    "condmat_df = pd.read_csv(\"communities/CA-CondMat.txt\", skiprows=1,header=None, sep= \" \")\n",
    "grqc_df = pd.read_csv(\"communities/CA-GrQc.txt\", skiprows=1,header=None, sep= \" \")\n",
    "hepph_df = pd.read_csv(\"communities/CA-HepPh.txt\", skiprows=1,header=None, sep= \" \")\n",
    "hepth_df = pd.read_csv(\"communities/CA-HepTh.txt\", skiprows=1,header=None, sep= \" \")"
   ]
  },
  {
   "cell_type": "code",
   "execution_count": 29,
   "metadata": {},
   "outputs": [],
   "source": [
    "astroph_values=astroph_df.values\n",
    "condmat_values=condmat_df.values\n",
    "grqc_values=grqc_df.values\n",
    "hepph_values=hepph_df.values\n",
    "hepth_values=hepth_df.values\n"
   ]
  },
  {
   "cell_type": "code",
   "execution_count": 31,
   "metadata": {},
   "outputs": [
    {
     "data": {
      "text/plain": [
       "2"
      ]
     },
     "execution_count": 31,
     "metadata": {},
     "output_type": "execute_result"
    }
   ],
   "source": [
    "# ca-AstroPh 17903 197031 50\n",
    "# ca-CondMat 21363 91342 100\n",
    "# ca-GrQc 4158 13428 2\n",
    "# ca-HepPh 11204 117649 25\n",
    "# ca-HepTh 8638 24827 20"
   ]
  },
  {
   "cell_type": "code",
   "execution_count": 11,
   "metadata": {},
   "outputs": [],
   "source": [
    "def normalized_spectral_clustering(vertices, k_eigval):\n",
    "    \n",
    "    G=nx.Graph()\n",
    "    g = G.add_edges_from(vertices)\n",
    "    \n",
    "    #calculate laplacian\n",
    "    laplacian = nx.normalized_laplacian_matrix(G)\n",
    "    #normalize laplicacian\n",
    "    laplacian_normalized = sp.sparse.identity(laplacian.shape[0]).toarray() - laplacian\n",
    "    laplacian_normalized = sp.sparse.csr_matrix(laplacian_normalized)\n",
    "    \n",
    "    #calcluate k eigenvectors and form matrix U\n",
    "    eig_val, U = sp.sparse.linalg.eigs(laplacian_normalized, k=k_eigval)\n",
    "    \n",
    "    #normalize U rows to have 1 norm\n",
    "    u_norm = sp.linalg.norm(U, axis=1, ord=1)\n",
    "    u_normalized = U / u_norm[:,np.newaxis]\n",
    "    \n",
    "    #cluster the U points to k clusters\n",
    "    kmeans = KMeans(n_clusters=k_eigval, random_state=0).fit(u_normalized)\n",
    "    \n",
    "    vertex_id = np.arange(laplacian.shape[0])\n",
    "    cluster_id = kmeans.labels_\n",
    "    concat_arr = np.column_stack((vertex_id, cluster_id))\n",
    "    \n",
    "    #concat_df = pd.DataFrame({'vertex_id':concat_arr[:,1],'cluster_id':concat_arr[:,0]})\n",
    "    return concat_arr\n",
    "    \n",
    "    \n",
    "def write_to_csv(clustering, name, header):\n",
    "    concat_arr_df = pd.DataFrame(clustering)\n",
    "    concat_arr_df.to_csv(name, sep=' ', index=False, header=False)\n",
    "    \n",
    "    def line_prepender(filename, line):\n",
    "        with open(filename, 'r+') as f:\n",
    "            content = f.read()\n",
    "            f.seek(0, 0)\n",
    "            f.write(line.rstrip('\\r\\n') + '\\n' + content)\n",
    "            \n",
    "    line_prepender(name, header)   \n",
    "    \n",
    "    \n",
    "def format_txt_file(name_old, name_new, header):\n",
    "    \n",
    "    shutil.copyfile(name_old, name_new)\n",
    "    \n",
    "    with open(name_new) as f:\n",
    "        lines = f.readlines()\n",
    "\n",
    "        lines # ['This is the first line.\\n', 'This is the second line.\\n']\n",
    "\n",
    "        lines[0] = header\n",
    "\n",
    "        lines # [\"This is the line that's replaced.\\n\", 'This is the second line.\\n']\n",
    "\n",
    "        with open(name_new, \"w\") as f:\n",
    "            f.writelines(lines)\n",
    "        \n",
    "    \n",
    "    \n",
    "    \n",
    "\n"
   ]
  },
  {
   "cell_type": "code",
   "execution_count": 71,
   "metadata": {},
   "outputs": [],
   "source": [
    "write_to_csv(re, 'CA-AstroPh.csv', '# ca-AstroPh 17903 197031 50')"
   ]
  },
  {
   "cell_type": "code",
   "execution_count": 72,
   "metadata": {},
   "outputs": [
    {
     "name": "stdout",
     "output_type": "stream",
     "text": [
      "reading graphfile ca-AstroPh.txt\n",
      "objective = 15962.666666666666\n"
     ]
    }
   ],
   "source": [
    "%run evaluate.py ca-AstroPh.txt CA-AstroPh.csv"
   ]
  },
  {
   "cell_type": "code",
   "execution_count": null,
   "metadata": {},
   "outputs": [],
   "source": [
    "# ca-AstroPh 17903 197031 50\n",
    "# ca-CondMat 21363 91342 100\n",
    "# ca-GrQc 4158 13428 2\n",
    "# ca-HepPh 11204 117649 25\n",
    "# ca-HepTh 8638 24827 20\n",
    "\n",
    "#astroph_values\n",
    "#condmat_values\n",
    "#grqc_values\n",
    "#hepph_values\n",
    "#hepth_values"
   ]
  },
  {
   "cell_type": "code",
   "execution_count": 25,
   "metadata": {},
   "outputs": [],
   "source": [
    "#CA-AstroPh\n",
    "ask2 = normalized_spectral_clustering(astroph_values, 2)\n",
    "ask10 = normalized_spectral_clustering(astroph_values, 10)\n",
    "ask20 = normalized_spectral_clustering(astroph_values, 20)\n",
    "ask50 = normalized_spectral_clustering(astroph_values, 50)\n",
    "ask100 = normalized_spectral_clustering(astroph_values, 100)\n",
    "\n"
   ]
  },
  {
   "cell_type": "code",
   "execution_count": 26,
   "metadata": {},
   "outputs": [],
   "source": [
    "#CA-AstroPh write clustering to csv\n",
    "write_to_csv(ask2, 'CA-AstroPh-k2.csv', '# ca-AstroPh 17903 197031 2')\n",
    "write_to_csv(ask10, 'CA-AstroPh-k10.csv', '# ca-AstroPh 17903 197031 10')\n",
    "write_to_csv(ask20, 'CA-AstroPh-k20.csv', '# ca-AstroPh 17903 197031 20')\n",
    "write_to_csv(ask50, 'CA-AstroPh-k50.csv', '# ca-AstroPh 17903 197031 50')\n",
    "write_to_csv(ask100, 'CA-AstroPh-k100.csv', '# ca-AstroPh 17903 197031 100')\n"
   ]
  },
  {
   "cell_type": "code",
   "execution_count": 27,
   "metadata": {},
   "outputs": [],
   "source": [
    "#CA-AstroPh reformat txt file for evaluation script\n",
    "format_txt_file('CA-AstroPh.txt', 'CA-AstroPh-k2.txt', '# ca-AstroPh 17903 197031 2\\n')\n",
    "format_txt_file('CA-AstroPh.txt', 'CA-AstroPh-k10.txt', '# ca-AstroPh 17903 197031 10\\n')\n",
    "format_txt_file('CA-AstroPh.txt', 'CA-AstroPh-k20.txt', '# ca-AstroPh 17903 197031 20\\n')\n",
    "format_txt_file('CA-AstroPh.txt', 'CA-AstroPh-k50.txt', '# ca-AstroPh 17903 197031 50\\n')\n",
    "format_txt_file('CA-AstroPh.txt', 'CA-AstroPh-k100.txt', '# ca-AstroPh 17903 197031 100\\n')\n",
    "\n",
    "\n"
   ]
  },
  {
   "cell_type": "code",
   "execution_count": 28,
   "metadata": {},
   "outputs": [
    {
     "name": "stdout",
     "output_type": "stream",
     "text": [
      "reading graphfile CA-AstroPh-k2.txt\n",
      "objective = 26.708333333333332\n",
      "reading graphfile CA-AstroPh-k10.txt\n",
      "objective = 1449.3333333333333\n",
      "reading graphfile CA-AstroPh-k20.txt\n",
      "objective = 4350.35294117647\n",
      "reading graphfile CA-AstroPh-k50.txt\n",
      "objective = 15962.666666666666\n",
      "reading graphfile CA-AstroPh-k100.txt\n",
      "objective = 36530.0\n"
     ]
    }
   ],
   "source": [
    "#CA-AstroPh run evaluation script \n",
    "%run evaluate.py CA-AstroPh-k2.txt CA-AstroPh-k2.csv\n",
    "%run evaluate.py CA-AstroPh-k10.txt CA-AstroPh-k10.csv\n",
    "%run evaluate.py CA-AstroPh-k20.txt CA-AstroPh-k20.csv\n",
    "%run evaluate.py CA-AstroPh-k50.txt CA-AstroPh-k50.csv\n",
    "%run evaluate.py CA-AstroPh-k100.txt CA-AstroPh-k100.csv\n",
    "\n"
   ]
  },
  {
   "cell_type": "code",
   "execution_count": 31,
   "metadata": {},
   "outputs": [],
   "source": [
    "cok2 = normalized_spectral_clustering(condmat_values, 2)\n",
    "cok10 = normalized_spectral_clustering(condmat_values, 10)\n",
    "cok20 = normalized_spectral_clustering(condmat_values, 20)\n",
    "cok50 = normalized_spectral_clustering(condmat_values, 50)\n",
    "co100 = normalized_spectral_clustering(condmat_values, 100)"
   ]
  },
  {
   "cell_type": "code",
   "execution_count": 32,
   "metadata": {},
   "outputs": [],
   "source": [
    "write_to_csv(cok2, 'CA-CondMat-k2.csv', '# ca-CondMat 21363 91342 2')\n",
    "write_to_csv(cok10, 'CA-CondMat-k10.csv', '# ca-CondMat 21363 91342 10')\n",
    "write_to_csv(cok20, 'CA-CondMat-k20.csv', '# ca-CondMat 21363 91342 20')\n",
    "write_to_csv(cok50, 'CA-CondMat-k50.csv', '# ca-CondMat 21363 91342 50')\n",
    "write_to_csv(co100, 'CA-CondMat-k100.csv', '# ca-CondMat 21363 91342 100')"
   ]
  },
  {
   "cell_type": "code",
   "execution_count": 33,
   "metadata": {},
   "outputs": [],
   "source": [
    "format_txt_file('ca-CondMat.txt', 'ca-CondMat-k2.txt', '# ca-CondMat 21363 91342 2\\n')\n",
    "format_txt_file('ca-CondMat.txt', 'ca-CondMat-k10.txt', '# ca-CondMat 21363 91342 10\\n')\n",
    "format_txt_file('ca-CondMat.txt', 'ca-CondMat-k20.txt', '# ca-CondMat 21363 91342 20\\n')\n",
    "format_txt_file('ca-CondMat.txt', 'ca-CondMat-k50.txt', '# ca-CondMat 21363 91342 50\\n')\n",
    "format_txt_file('ca-CondMat.txt', 'ca-CondMat-k100.txt', '# ca-CondMat 21363 91342 100\\n')"
   ]
  },
  {
   "cell_type": "code",
   "execution_count": 34,
   "metadata": {},
   "outputs": [
    {
     "name": "stdout",
     "output_type": "stream",
     "text": [
      "reading graphfile ca-CondMat-k2.txt\n",
      "objective = 9.140625\n",
      "reading graphfile ca-CondMat-k10.txt\n",
      "objective = 1379.157894736842\n",
      "reading graphfile ca-CondMat-k20.txt\n",
      "objective = 2867.1111111111113\n",
      "reading graphfile ca-CondMat-k50.txt\n",
      "objective = 7071.363636363636\n",
      "reading graphfile ca-CondMat-k100.txt\n",
      "objective = 12091.714285714286\n"
     ]
    }
   ],
   "source": [
    "%run evaluate.py ca-CondMat-k2.txt CA-CondMat-k2.csv\n",
    "%run evaluate.py ca-CondMat-k10.txt CA-CondMat-k10.csv\n",
    "%run evaluate.py ca-CondMat-k20.txt CA-CondMat-k20.csv\n",
    "%run evaluate.py ca-CondMat-k50.txt CA-CondMat-k50.csv\n",
    "%run evaluate.py ca-CondMat-k100.txt CA-CondMat-k100.csv"
   ]
  },
  {
   "cell_type": "code",
   "execution_count": 36,
   "metadata": {},
   "outputs": [],
   "source": [
    "qrk2 = normalized_spectral_clustering(grqc_values, 2)\n",
    "qrk10 = normalized_spectral_clustering(grqc_values, 10)\n",
    "qrk20 = normalized_spectral_clustering(grqc_values, 20)\n"
   ]
  },
  {
   "cell_type": "code",
   "execution_count": 37,
   "metadata": {},
   "outputs": [],
   "source": [
    "write_to_csv(qrk2, 'CA-GrQc-k2.csv', '# ca-GrQc 4158 13428 2')\n",
    "write_to_csv(qrk10, 'CA-GrQc-k10.csv', '# ca-GrQc 4158 13428 10')\n",
    "write_to_csv(qrk20, 'CA-GrQc-k20.csv', '# ca-GrQc 4158 13428 20')\n"
   ]
  },
  {
   "cell_type": "code",
   "execution_count": 40,
   "metadata": {},
   "outputs": [],
   "source": [
    "format_txt_file('ca-GrQc.txt', 'ca-GrQc-k2.txt', '# ca-GrQc 4158 13428 2\\n')\n",
    "format_txt_file('ca-GrQc.txt', 'ca-GrQc-k10.txt', '# ca-GrQc 4158 13428 10\\n')\n",
    "format_txt_file('ca-GrQc.txt', 'ca-GrQc-k20.txt', '# ca-GrQc 4158 13428 20\\n')\n"
   ]
  },
  {
   "cell_type": "code",
   "execution_count": 42,
   "metadata": {},
   "outputs": [
    {
     "name": "stdout",
     "output_type": "stream",
     "text": [
      "reading graphfile ca-GrQc-k2.txt\n",
      "objective = 5.26\n",
      "reading graphfile ca-GrQc-k10.txt\n",
      "objective = 596.625\n",
      "reading graphfile ca-GrQc-k20.txt\n",
      "objective = 720.6875\n"
     ]
    }
   ],
   "source": [
    "%run evaluate.py ca-GrQc-k2.txt ca-GrQc-k2.csv\n",
    "%run evaluate.py ca-GrQc-k10.txt ca-GrQc-k10.csv\n",
    "%run evaluate.py ca-GrQc-k20.txt ca-GrQc-k20.csv\n"
   ]
  },
  {
   "cell_type": "code",
   "execution_count": 43,
   "metadata": {},
   "outputs": [],
   "source": [
    "hek25 = normalized_spectral_clustering(hepph_values, 25)"
   ]
  },
  {
   "cell_type": "code",
   "execution_count": 44,
   "metadata": {},
   "outputs": [],
   "source": [
    "write_to_csv(hek25, 'CA-HepPh-k25.csv', '# ca-HepPh 11204 117649 25')"
   ]
  },
  {
   "cell_type": "code",
   "execution_count": 45,
   "metadata": {},
   "outputs": [],
   "source": [
    "format_txt_file('ca-HepPh.txt', 'ca-HepPh-k25.txt', '# ca-HepPh 11204 117649 25\\n')"
   ]
  },
  {
   "cell_type": "code",
   "execution_count": 46,
   "metadata": {},
   "outputs": [
    {
     "name": "stdout",
     "output_type": "stream",
     "text": [
      "reading graphfile ca-HepPh-k25.txt\n",
      "objective = 7791.538461538462\n"
     ]
    }
   ],
   "source": [
    "%run evaluate.py ca-HepPh-k25.txt CA-HepPh-k25.csv"
   ]
  },
  {
   "cell_type": "code",
   "execution_count": 47,
   "metadata": {},
   "outputs": [],
   "source": [
    "hepthk25 = normalized_spectral_clustering(hepth_values, 20)"
   ]
  },
  {
   "cell_type": "code",
   "execution_count": 48,
   "metadata": {},
   "outputs": [],
   "source": [
    "write_to_csv(hepthk25, 'CA-HepTh-k20.csv', '# ca-HepTh 8638 24827 20')"
   ]
  },
  {
   "cell_type": "code",
   "execution_count": 49,
   "metadata": {},
   "outputs": [],
   "source": [
    "format_txt_file('ca-HepTh.txt', 'ca-HepTh-k20.txt', '# ca-HepTh 8638 24827 20\\n')"
   ]
  },
  {
   "cell_type": "code",
   "execution_count": 50,
   "metadata": {},
   "outputs": [
    {
     "name": "stdout",
     "output_type": "stream",
     "text": [
      "reading graphfile ca-HepTh-k20.txt\n",
      "objective = 934.7647058823529\n"
     ]
    }
   ],
   "source": [
    "%run evaluate.py ca-HepTh-k20.txt CA-HepTh-k20.csv"
   ]
  },
  {
   "cell_type": "code",
   "execution_count": null,
   "metadata": {},
   "outputs": [],
   "source": []
  }
 ],
 "metadata": {
  "kernelspec": {
   "display_name": "Python 3",
   "language": "python",
   "name": "python3"
  },
  "language_info": {
   "codemirror_mode": {
    "name": "ipython",
    "version": 3
   },
   "file_extension": ".py",
   "mimetype": "text/x-python",
   "name": "python",
   "nbconvert_exporter": "python",
   "pygments_lexer": "ipython3",
   "version": "3.6.6"
  }
 },
 "nbformat": 4,
 "nbformat_minor": 2
}
